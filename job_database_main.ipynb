{
 "cells": [
  {
   "cell_type": "markdown",
   "id": "2dc69766",
   "metadata": {},
   "source": [
    "#### →→→→→→→ ⤴      click the double arrows, and press restart to run"
   ]
  },
  {
   "cell_type": "markdown",
   "id": "76c1b030",
   "metadata": {},
   "source": [
    "# Welcome to the Job Database"
   ]
  },
  {
   "cell_type": "code",
   "execution_count": null,
   "id": "5214f740",
   "metadata": {},
   "outputs": [
    {
     "name": "stdout",
     "output_type": "stream",
     "text": [
      "THIS JOB DATABASE HAS AN APPLICANT, AND A COMPANY SEGMENT.\n"
     ]
    }
   ],
   "source": [
    "from helperfunction import *\n",
    "\n",
    "print(\"THIS JOB DATABASE HAS AN APPLICANT, AND A COMPANY SEGMENT.\")\n",
    "\n",
    "if (prompt:= input(\"Please enter 'company' or 'applicant':\")) == 'company':\n",
    "    job_database_comp_simulator()\n",
    "else:\n",
    "    job_database_app_simulator()"
   ]
  }
 ],
 "metadata": {
  "kernelspec": {
   "display_name": "Python 3 (ipykernel)",
   "language": "python",
   "name": "python3"
  },
  "language_info": {
   "codemirror_mode": {
    "name": "ipython",
    "version": 3
   },
   "file_extension": ".py",
   "mimetype": "text/x-python",
   "name": "python",
   "nbconvert_exporter": "python",
   "pygments_lexer": "ipython3",
   "version": "3.9.9"
  }
 },
 "nbformat": 4,
 "nbformat_minor": 5
}
